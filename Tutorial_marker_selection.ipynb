{
 "cells": [
  {
   "cell_type": "code",
   "execution_count": 1,
   "id": "84f75cd3",
   "metadata": {},
   "outputs": [
    {
     "name": "stderr",
     "output_type": "stream",
     "text": [
      "/home/wl545/.conda/envs/gpu/lib/python3.8/site-packages/torchvision/io/image.py:13: UserWarning: Failed to load image Python extension: '/vast/palmer/home.mccleary/wl545/.conda/envs/gpu/lib/python3.8/site-packages/torchvision/image.so: undefined symbol: _ZN3c107WarningC1ENS_7variantIJNS0_11UserWarningENS0_18DeprecationWarningEEEERKNS_14SourceLocationENSt7__cxx1112basic_stringIcSt11char_traitsIcESaIcEEEb'If you don't plan on using image functionality from `torchvision.io`, you can ignore this warning. Otherwise, there might be something wrong with your environment. Did you have `libjpeg` or `libpng` installed before building `torchvision` from source?\n",
      "  warn(\n"
     ]
    }
   ],
   "source": [
    "import pandas as pd\n",
    "import scanpy as sc\n",
    "import numpy as np\n",
    "import anndata\n",
    "import torch\n",
    "import pytorch_lightning\n",
    "import random\n",
    "from stg.stg import STG\n",
    "import cosg\n",
    "from CosGeneGate.select_credible import *\n"
    "from CosGeneGate.CosGeneGate import *\n"
    "import scipy"
   ]
  },
  {
   "cell_type": "code",
   "execution_count": 2,
   "id": "21f6666a",
   "metadata": {},
   "outputs": [],
   "source": [
    "def change_sparsertiy(adata, keylist):\n",
    "    for item in keylist:\n",
    "        if item in list(adata.layers.keys()):\n",
    "            if scipy.sparse.issparse(adata.layers[item]):\n",
    "                adata.layers[item] = adata.layers[item].todense()\n",
    "            else:\n",
    "                continue\n",
    "            adata.layers[item] = np.asarray(adata.layers[item])\n",
    "        else:\n",
    "            continue\n",
    "    return adata"
   ]
  },
  {
   "cell_type": "markdown",
   "id": "d161592f",
   "metadata": {},
   "source": [
    "# marker selection"
   ]
  },
  {
   "cell_type": "code",
   "execution_count": 3,
   "id": "68961289",
   "metadata": {},
   "outputs": [
    {
     "data": {
      "text/plain": [
       "AnnData object with n_obs × n_vars = 2625 × 2000\n",
       "    obs: 'n_genes', 'n_genes_by_counts', 'total_counts', 'total_counts_mt', 'pct_counts_mt', 'label', 'batch', 'n_counts'\n",
       "    var: 'gene_ids', 'n_cells', 'mt', 'n_cells_by_counts', 'mean_counts', 'pct_dropout_by_counts', 'total_counts', 'highly_variable', 'means', 'dispersions', 'dispersions_norm', 'highly_variable_nbatches', 'highly_variable_intersection'\n",
       "    uns: 'log1p', 'hvg'\n",
       "    layers: 'logcounts', 'raw'"
      ]
     },
     "execution_count": 3,
     "metadata": {},
     "output_type": "execute_result"
    }
   ],
   "source": [
    "#load data\n",
    "adata = anndata.read_h5ad('pbmc3k_preprocessed.h5ad')\n",
    "#pre-processing\n",
    "sc.pp.filter_cells(adata, min_genes=200)\n",
    "sc.pp.filter_genes(adata, min_cells=3)\n",
    "#calculate seq_depth for CS-CORE before hvg selection\n",
    "adata.obs['n_counts'] = np.array(np.sum(adata.layers['raw'], axis= 1))\n",
    "#select top 2,000 highly variable genes\n",
    "sc.pp.highly_variable_genes(adata, n_top_genes=2000, layer='logcounts', batch_key='batch')\n",
    "adata = adata[:, adata.var.highly_variable]\n",
    "change_sparsertiy(adata, ['logcounts'])"
   ]
  },
  {
   "cell_type": "code",
   "execution_count": 4,
   "id": "00b34e1a",
   "metadata": {},
   "outputs": [
    {
     "name": "stderr",
     "output_type": "stream",
     "text": [
      "[rank: 0] Seed set to 0\n",
      "/home/wl545/.conda/envs/gpu/lib/python3.8/site-packages/torch/nn/modules/module.py:1518: UserWarning: Implicit dimension choice for softmax has been deprecated. Change the call to include dim=X as an argument.\n",
      "  return self._call_impl(*args, **kwargs)\n"
     ]
    },
    {
     "name": "stdout",
     "output_type": "stream",
     "text": [
      "Epoch: 1000: loss=0.011702 valid_loss=0.000643\n",
      "Epoch: 2000: loss=0.009650 valid_loss=0.000449\n",
      "Epoch: 1000: loss=0.022112 valid_loss=0.015277\n",
      "Epoch: 2000: loss=0.011549 valid_loss=0.001071\n",
      "Epoch: 1000: loss=0.017299 valid_loss=0.004022\n",
      "Epoch: 2000: loss=0.019875 valid_loss=0.000762\n",
      "Epoch: 1000: loss=0.028390 valid_loss=0.004564\n",
      "Epoch: 2000: loss=0.013791 valid_loss=0.000784\n",
      "Epoch: 1000: loss=0.031570 valid_loss=0.016988\n",
      "Epoch: 2000: loss=0.011673 valid_loss=0.000852\n",
      "Epoch: 1000: loss=0.041589 valid_loss=0.011139\n",
      "Epoch: 2000: loss=0.010995 valid_loss=0.000677\n",
      "Epoch: 1000: loss=0.022044 valid_loss=0.001516\n",
      "Epoch: 2000: loss=0.010350 valid_loss=0.000580\n"
     ]
    },
    {
     "name": "stderr",
     "output_type": "stream",
     "text": [
      "/home/wl545/.conda/envs/gpu/lib/python3.8/site-packages/cosg/cosg.py:115: ImplicitModificationWarning: Trying to modify attribute `._uns` of view, initializing view as actual.\n",
      "  adata.uns[key_added] = {}\n"
     ]
    },
    {
     "name": "stdout",
     "output_type": "stream",
     "text": [
      "**finished identifying marker genes by COSG**\n"
     ]
    }
   ],
   "source": [
    "#Run CosGeneGate to select markers for each celltype\n",
    "markers = CosGeneGate(adata, stg_genes=200, final_genes=50, lbm=0.01,\n",
    "        layer_key='logcounts', cluster_header='label', random_state=0)"
   ]
  },
  {
   "cell_type": "code",
   "execution_count": 5,
   "id": "c568d2bb",
   "metadata": {},
   "outputs": [
    {
     "name": "stderr",
     "output_type": "stream",
     "text": [
      "[rank: 0] Seed set to 0\n",
      "/home/wl545/.conda/envs/gpu/lib/python3.8/site-packages/torch/nn/modules/module.py:1518: UserWarning: Implicit dimension choice for softmax has been deprecated. Change the call to include dim=X as an argument.\n",
      "  return self._call_impl(*args, **kwargs)\n"
     ]
    },
    {
     "name": "stdout",
     "output_type": "stream",
     "text": [
      "Epoch: 1000: loss=0.011702 valid_loss=0.000643\n",
      "Epoch: 2000: loss=0.009650 valid_loss=0.000449\n",
      "Epoch: 1000: loss=0.022112 valid_loss=0.015277\n",
      "Epoch: 2000: loss=0.011549 valid_loss=0.001071\n",
      "Epoch: 1000: loss=0.017299 valid_loss=0.004022\n",
      "Epoch: 2000: loss=0.019875 valid_loss=0.000762\n",
      "Epoch: 1000: loss=0.028390 valid_loss=0.004564\n",
      "Epoch: 2000: loss=0.013791 valid_loss=0.000784\n",
      "Epoch: 1000: loss=0.031570 valid_loss=0.016988\n",
      "Epoch: 2000: loss=0.011673 valid_loss=0.000852\n",
      "Epoch: 1000: loss=0.041589 valid_loss=0.011139\n",
      "Epoch: 2000: loss=0.010995 valid_loss=0.000677\n",
      "Epoch: 1000: loss=0.022044 valid_loss=0.001516\n",
      "Epoch: 2000: loss=0.010350 valid_loss=0.000580\n"
     ]
    },
    {
     "name": "stderr",
     "output_type": "stream",
     "text": [
      "/home/wl545/.conda/envs/gpu/lib/python3.8/site-packages/cosg/cosg.py:115: ImplicitModificationWarning: Trying to modify attribute `._uns` of view, initializing view as actual.\n",
      "  adata.uns[key_added] = {}\n"
     ]
    },
    {
     "name": "stdout",
     "output_type": "stream",
     "text": [
      "**finished identifying marker genes by COSG**\n"
     ]
    }
   ],
   "source": [
    "#Users can also choose to set stg_genes=None, then stg select genes with probability>0.5\n",
    "markers2 = CosGeneGate(adata, stg_genes=None, final_genes=50, lbm=0.01,\n",
    "        layer_key='logcounts', cluster_header='label', random_state=0)"
   ]
  },
  {
   "cell_type": "markdown",
   "id": "5bae9621",
   "metadata": {},
   "source": [
    "# redundancy removal"
   ]
  },
  {
   "cell_type": "code",
   "execution_count": 6,
   "id": "99cbb2b9",
   "metadata": {
    "scrolled": false
   },
   "outputs": [
    {
     "name": "stderr",
     "output_type": "stream",
     "text": [
      "[rank: 0] Seed set to 0\n",
      "[rank: 0] Seed set to 0\n",
      "[rank: 0] Seed set to 1\n",
      "[rank: 0] Seed set to 1\n",
      "[rank: 0] Seed set to 2\n",
      "[rank: 0] Seed set to 2\n",
      "[rank: 0] Seed set to 3\n",
      "[rank: 0] Seed set to 3\n",
      "[rank: 0] Seed set to 4\n",
      "[rank: 0] Seed set to 4\n",
      "[rank: 0] Seed set to 5\n",
      "[rank: 0] Seed set to 5\n",
      "[rank: 0] Seed set to 6\n",
      "[rank: 0] Seed set to 6\n",
      "[rank: 0] Seed set to 7\n",
      "[rank: 0] Seed set to 7\n",
      "[rank: 0] Seed set to 8\n",
      "[rank: 0] Seed set to 8\n",
      "[rank: 0] Seed set to 9\n",
      "[rank: 0] Seed set to 9\n"
     ]
    }
   ],
   "source": [
    "%%capture\n",
    "#Requirement of redundancy removal: run CosGeneGate for several seeds.\n",
    "#In this tutorial, we run 10 seeds for saving time. In real-world applications, we recommend running >100 seeds.\n",
    "markers = {}\n",
    "for seed in range(10):\n",
    "    pytorch_lightning.seed_everything(seed)\n",
    "    markers[seed] = CosGeneGate(adata, stg_genes=200, final_genes=50, lbm=0.01,\n",
    "        layer_key='logcounts', cluster_header='label', random_state=seed)"
   ]
  },
  {
   "cell_type": "code",
   "execution_count": 7,
   "id": "97eca0f8",
   "metadata": {},
   "outputs": [],
   "source": [
    "#get the union markers of all seeds in each cell type\n",
    "all_markers = {}\n",
    "cluster_list = list(set(adata.obs.label))\n",
    "for cl in cluster_list:\n",
    "    all_markers[cl] = []\n",
    "    for seed in range(10):\n",
    "        all_markers[cl].extend(markers[seed][cl])\n",
    "    all_markers[cl] = list(set(all_markers[cl]))"
   ]
  },
  {
   "cell_type": "code",
   "execution_count": 8,
   "id": "b5f437ac",
   "metadata": {},
   "outputs": [
    {
     "name": "stdout",
     "output_type": "stream",
     "text": [
      "IRLS converged after 3 iterations.\n",
      "9 among 77 genes have negative variance estimates. Their co-expressions with other genes were set to 100.\n",
      "IRLS converged after 3 iterations.\n",
      "1 among 69 genes have negative variance estimates. Their co-expressions with other genes were set to 100.\n",
      "IRLS converged after 4 iterations.\n",
      "8 among 78 genes have negative variance estimates. Their co-expressions with other genes were set to 100.\n",
      "IRLS converged after 3 iterations.\n",
      "11 among 79 genes have negative variance estimates. Their co-expressions with other genes were set to 100.\n",
      "IRLS converged after 4 iterations.\n",
      "1 among 62 genes have negative variance estimates. Their co-expressions with other genes were set to 100.\n",
      "IRLS converged after 3 iterations.\n",
      "44 among 111 genes have negative variance estimates. Their co-expressions with other genes were set to 100.\n",
      "IRLS converged after 4 iterations.\n",
      "4 among 86 genes have negative variance estimates. Their co-expressions with other genes were set to 100.\n"
     ]
    }
   ],
   "source": [
    "#Run CS-CORE to get the co-expression matrix\n",
    "from select_credible import *\n",
    "save_dir = 'results/'\n",
    "run_cscore(adata, save_dir, all_markers)"
   ]
  },
  {
   "cell_type": "code",
   "execution_count": 11,
   "id": "7c9796b0",
   "metadata": {},
   "outputs": [],
   "source": [
    "#get anchor gene list, users can self-define number of seeds used in anchor genes selection\n",
    "anchor_genes = get_anchor_genes(markers, seeds_num = 1)\n",
    "\n",
    "#select credible set, use 30 markers per cell type as an example\n",
    "selected_genes = select_credible_set(markers, save_dir, anchor_genes, optimal_num=30)"
   ]
  },
  {
   "cell_type": "code",
   "execution_count": 12,
   "id": "6d4eeda1",
   "metadata": {},
   "outputs": [
    {
     "data": {
      "text/plain": [
       "{'B': {'MS4A1': ['MS4A1', 'PLD4'],\n",
       "  'HLA-DPA1': ['HLA-DPA1', 'CD74', 'HLA-DRB5', 'HLA-DRB1'],\n",
       "  'HLA-DQA1': ['HLA-DQA1', 'CD74', 'HLA-DRB1'],\n",
       "  'CD79A': ['CD79A', 'GNG3'],\n",
       "  'LINC00926': ['LINC00926'],\n",
       "  'TCL1A': ['TCL1A', 'IRF8'],\n",
       "  'IRF8': ['IRF8', 'TCL1A'],\n",
       "  'HLA-DMA': ['HLA-DMA', 'CAMK1D'],\n",
       "  'HLA-DRA': ['HLA-DRA', 'PRKCB'],\n",
       "  'IGJ': ['IGJ', 'MZB1', 'TNFRSF17'],\n",
       "  'HVCN1': ['HVCN1'],\n",
       "  'HLA-DPB1': ['HLA-DPB1', 'KCNG1'],\n",
       "  'HLA-DRB5': ['HLA-DRB5', 'HLA-DPA1', 'CD74', 'HLA-DRB1'],\n",
       "  'CD74': ['CD74', 'HLA-DPA1', 'HLA-DRB5', 'HLA-DRB1'],\n",
       "  'HLA-DMB': ['HLA-DMB', 'LINC01013'],\n",
       "  'HLA-DQB1': ['HLA-DQB1', 'HLA-DRA', 'CD74', 'HLA-DRB1'],\n",
       "  'EAF2': ['EAF2', 'PLD4'],\n",
       "  'CD37': ['CD37'],\n",
       "  'HLA-DRB1': ['HLA-DRB1', 'HLA-DRA', 'HLA-DQB1', 'CD74'],\n",
       "  'CD79B': ['CD79B', 'SMIM14'],\n",
       "  'POU2AF1': ['POU2AF1'],\n",
       "  'LAT2': ['LAT2', 'TLE1'],\n",
       "  'GNG7': ['GNG7']},\n",
       " 'CD14+ Mono': {'LYZ': ['LYZ', 'COTL1', 'FOLR3', 'S100A9'],\n",
       "  'CDA': ['CDA'],\n",
       "  'FCN1': ['FCN1', 'GSTP1'],\n",
       "  'CTSS': ['CTSS', 'S100A8'],\n",
       "  'GRN': ['GRN', 'LYZ'],\n",
       "  'S100A6': ['S100A6', 'LGALS1'],\n",
       "  'S100A9': ['S100A9', 'SAT1', 'LYZ'],\n",
       "  'CCL3': ['CCL3', 'LGALS3'],\n",
       "  'ASGR1': ['ASGR1', 'CST3'],\n",
       "  'TYMP': ['TYMP', 'APOBEC3A', 'IFITM3'],\n",
       "  'LST1': ['LST1', 'IFITM3', 'LYZ', 'FCER1G', 'S100A9'],\n",
       "  'FPR1': ['FPR1'],\n",
       "  'S100A8': ['S100A8', 'IL8', 'IFITM3', 'S100A9'],\n",
       "  'IL1B': ['IL1B'],\n",
       "  'APOBEC3A': ['APOBEC3A', 'TYMP', 'IFITM3'],\n",
       "  'AIF1': ['AIF1', 'APOBEC3A', 'LYZ', 'S100A8', 'S100A9'],\n",
       "  'IFI30': ['IFI30', 'SAT1'],\n",
       "  'LGALS2': ['LGALS2', 'S100A8'],\n",
       "  'FCGRT': ['FCGRT'],\n",
       "  'COTL1': ['COTL1', 'LYZ', 'FOLR3', 'S100A9'],\n",
       "  'FOLR3': ['FOLR3', 'S100A9', 'COTL1', 'LYZ'],\n",
       "  'NPC2': ['NPC2', 'SMARCD3'],\n",
       "  'SAT1': ['SAT1', 'S100A9', 'LYZ'],\n",
       "  'FCER1G': ['FCER1G', 'LYZ', 'AIF1', 'S100A9'],\n",
       "  'GSTP1': ['GSTP1', 'FCN1'],\n",
       "  'S100A11': ['S100A11', 'FCER1G'],\n",
       "  'MS4A6A': ['MS4A6A'],\n",
       "  'ALDH2': ['ALDH2', 'IL8'],\n",
       "  'LGALS1': ['LGALS1', 'NPC2'],\n",
       "  'CST3': ['CST3', 'COTL1', 'S100A9', 'IFITM3', 'RBP7', 'S100A8'],\n",
       "  'NCF2': ['NCF2'],\n",
       "  'TYROBP': ['TYROBP']},\n",
       " 'CD16+ Mono': {'ARRB2': ['ARRB2'],\n",
       "  'LILRA3': ['LILRA3'],\n",
       "  'NPC2': ['NPC2'],\n",
       "  'FCGR3A': ['FCGR3A', 'CST3'],\n",
       "  'BLOC1S1': ['BLOC1S1'],\n",
       "  'CEBPB': ['CEBPB', 'TYROBP'],\n",
       "  'CST3': ['CST3', 'FCGR3A'],\n",
       "  'ABI3': ['ABI3'],\n",
       "  'CTSS': ['CTSS'],\n",
       "  'TYMP': ['TYMP'],\n",
       "  'BTK': ['BTK'],\n",
       "  'LST1': ['LST1', 'HLA-DPA1'],\n",
       "  'IFITM3': ['IFITM3'],\n",
       "  'IFI30': ['IFI30'],\n",
       "  'COTL1': ['COTL1'],\n",
       "  'TNFSF10': ['TNFSF10', 'SELPLG'],\n",
       "  'LGALS1': ['LGALS1', 'CST3'],\n",
       "  'APOBEC3A': ['APOBEC3A', 'APOBEC3B'],\n",
       "  'AIF1': ['AIF1'],\n",
       "  'S100A11': ['S100A11'],\n",
       "  'TYROBP': ['TYROBP', 'CEBPB'],\n",
       "  'SAT1': ['SAT1'],\n",
       "  'FCER1G': ['FCER1G', 'FCGR3A'],\n",
       "  'ANXA5': ['ANXA5', 'C1QC']},\n",
       " 'CD4 T': {'GIMAP7': ['GIMAP7'],\n",
       "  'RPL8': ['RPL8', 'B2M', 'RPL18A'],\n",
       "  'RPL34': ['RPL34', 'UBB'],\n",
       "  'MAL': ['MAL', 'IL7R'],\n",
       "  'GIMAP4': ['GIMAP4', 'CD48'],\n",
       "  'CD2': ['CD2'],\n",
       "  'LTB': ['LTB', 'IL32', 'RPS27A', 'B2M', 'RPL21', 'RPS3A'],\n",
       "  'ITM2A': ['ITM2A'],\n",
       "  'FYB': ['FYB'],\n",
       "  'IL32': ['IL32', 'LTB', 'RPS27A', 'B2M', 'RPL21', 'RPS3A'],\n",
       "  'TPT1': ['TPT1', 'B2M', 'ACTB', 'RPL18A', 'MALAT1'],\n",
       "  'RPL21': ['RPL21', 'LTB', 'MT-CO2', 'RPS27A', 'RPS3A', 'RPL34'],\n",
       "  'ACAP1': ['ACAP1'],\n",
       "  'SELL': ['SELL', 'JUNB'],\n",
       "  'RPS3A': ['RPS3A', 'TPT1', 'ACTB', 'B2M', 'RPL18A', 'RPL13'],\n",
       "  'RPS5': ['RPS5', 'ACTB', 'B2M', 'IL32', 'RPL18A', 'RPL21', 'RPS3A', 'RPL13'],\n",
       "  'B2M': ['B2M', 'TPT1', 'ACTB', 'RPL18A', 'MALAT1'],\n",
       "  'RPS27A': ['RPS27A',\n",
       "   'B2M',\n",
       "   'ACTB',\n",
       "   'IL32',\n",
       "   'RPL18A',\n",
       "   'RPL13',\n",
       "   'RPL21',\n",
       "   'RPS3A'],\n",
       "  'RAC2': ['RAC2'],\n",
       "  'MALAT1': ['MALAT1', 'UBB'],\n",
       "  'CD48': ['CD48', 'GIMAP4'],\n",
       "  'JUNB': ['JUNB', 'H3F3B'],\n",
       "  'HINT1': ['HINT1'],\n",
       "  'GIMAP5': ['GIMAP5', 'GPR183'],\n",
       "  'LIMD2': ['LIMD2', 'RPL8'],\n",
       "  'TRAF3IP3': ['TRAF3IP3', 'RBMX'],\n",
       "  'RPL18A': ['RPL18A', 'RPL8', 'B2M'],\n",
       "  'RP11-291B21.2': ['RP11-291B21.2', 'LTB'],\n",
       "  'IL7R': ['IL7R', 'LTB', 'MALAT1'],\n",
       "  'RPL13': ['RPL13',\n",
       "   'RPS27A',\n",
       "   'IL32',\n",
       "   'ACTB',\n",
       "   'B2M',\n",
       "   'RPL18A',\n",
       "   'RPL21',\n",
       "   'RPS3A'],\n",
       "  'PTPRCAP': ['PTPRCAP', 'RPL34', 'ACTB', 'RPS27A', 'RPS3A']},\n",
       " 'CD8 T': {'HOPX': ['HOPX'],\n",
       "  'NKG7': ['NKG7', 'CST7', 'CCL4', 'GZMH'],\n",
       "  'KLRG1': ['KLRG1'],\n",
       "  'GZMA': ['GZMA', 'CCL5'],\n",
       "  'PRF1': ['PRF1', 'NKG7', 'GZMK'],\n",
       "  'LYAR': ['LYAR'],\n",
       "  'CST7': ['CST7', 'NKG7', 'CCL4', 'GZMH'],\n",
       "  'ARPC5L': ['ARPC5L'],\n",
       "  'GYG1': ['GYG1', 'NCR3'],\n",
       "  'NCR3': ['NCR3', 'GYG1'],\n",
       "  'CTSW': ['CTSW', 'TIGIT'],\n",
       "  'CD2': ['CD2'],\n",
       "  'GZMH': ['GZMH', 'CCL4', 'CST7', 'NKG7'],\n",
       "  'B2M': ['B2M'],\n",
       "  'CCL4': ['CCL4', 'GZMH', 'CST7', 'NKG7'],\n",
       "  'PTPRCAP': ['PTPRCAP'],\n",
       "  'GIMAP7': ['GIMAP7'],\n",
       "  'KLRB1': ['KLRB1', 'GZMH'],\n",
       "  'IL32': ['IL32'],\n",
       "  'GZMK': ['GZMK', 'PRF1', 'NKG7'],\n",
       "  'HSP90AA1': ['HSP90AA1'],\n",
       "  'SAMD3': ['SAMD3'],\n",
       "  'CCL5': ['CCL5', 'GZMA'],\n",
       "  'ID2': ['ID2', 'KLRB1']},\n",
       " 'DC': {'HLA-DPA1': ['HLA-DPA1',\n",
       "   'HLA-DRB5',\n",
       "   'HLA-DPB1',\n",
       "   'HLA-DQA1',\n",
       "   'HLA-DRA',\n",
       "   'HLA-DRB1',\n",
       "   'HLA-DQB1'],\n",
       "  'HLA-DQA1': ['HLA-DQA1',\n",
       "   'HLA-DRA',\n",
       "   'HLA-DRB1',\n",
       "   'HLA-DPB1',\n",
       "   'HLA-DPA1',\n",
       "   'HLA-DRB5',\n",
       "   'HLA-DQB1'],\n",
       "  'CLEC4C': ['CLEC4C', 'SCT'],\n",
       "  'HLA-DMA': ['HLA-DMA'],\n",
       "  'ALDH2': ['ALDH2'],\n",
       "  'CLEC10A': ['CLEC10A'],\n",
       "  'CST3': ['CST3'],\n",
       "  'HLA-DPB1': ['HLA-DPB1',\n",
       "   'HLA-DRB5',\n",
       "   'HLA-DQA1',\n",
       "   'HLA-DRA',\n",
       "   'HLA-DPA1',\n",
       "   'HLA-DRB1',\n",
       "   'HLA-DQB1'],\n",
       "  'HLA-DRB5': ['HLA-DRB5',\n",
       "   'HLA-DPB1',\n",
       "   'HLA-DQA1',\n",
       "   'HLA-DRA',\n",
       "   'HLA-DPA1',\n",
       "   'HLA-DRB1',\n",
       "   'HLA-DQB1'],\n",
       "  'FCER1A': ['FCER1A'],\n",
       "  'HLA-DMB': ['HLA-DMB'],\n",
       "  'HLA-DQB1': ['HLA-DQB1',\n",
       "   'HLA-DQA1',\n",
       "   'HLA-DRB1',\n",
       "   'HLA-DPB1',\n",
       "   'HLA-DRA',\n",
       "   'HLA-DRB5',\n",
       "   'HLA-DPA1'],\n",
       "  'HLA-DRB1': ['HLA-DRB1',\n",
       "   'HLA-DQA1',\n",
       "   'HLA-DRA',\n",
       "   'HLA-DPB1',\n",
       "   'HLA-DPA1',\n",
       "   'HLA-DRB5',\n",
       "   'HLA-DQB1'],\n",
       "  'IL1B': ['IL1B']},\n",
       " 'NK': {'XCL2': ['XCL2', 'CCL4', 'CCL4L1'],\n",
       "  'GZMB': ['GZMB'],\n",
       "  'HOPX': ['HOPX', 'GZMH'],\n",
       "  'FGFBP2': ['FGFBP2', 'GZMH'],\n",
       "  'FCGR3A': ['FCGR3A'],\n",
       "  'CD247': ['CD247', 'CCL5'],\n",
       "  'NKG7': ['NKG7'],\n",
       "  'AKR1C3': ['AKR1C3'],\n",
       "  'GZMA': ['GZMA'],\n",
       "  'PRF1': ['PRF1', 'KLRC1'],\n",
       "  'CST7': ['CST7'],\n",
       "  'GNLY': ['GNLY', 'HOPX'],\n",
       "  'ARPC5L': ['ARPC5L'],\n",
       "  'HAVCR2': ['HAVCR2'],\n",
       "  'NCR3': ['NCR3', 'KIR3DL2'],\n",
       "  'CTSW': ['CTSW'],\n",
       "  'GZMH': ['GZMH', 'HOPX'],\n",
       "  'IGFBP7': ['IGFBP7', 'CLIC3'],\n",
       "  'RAMP1': ['RAMP1'],\n",
       "  'CCL4': ['CCL4', 'CCL3'],\n",
       "  'TTC38': ['TTC38'],\n",
       "  'KLRB1': ['KLRB1'],\n",
       "  'SPON2': ['SPON2'],\n",
       "  'XCL1': ['XCL1', 'PRF1'],\n",
       "  'CLIC3': ['CLIC3', 'IGFBP7'],\n",
       "  'SAMD3': ['SAMD3', 'S100B'],\n",
       "  'PRSS23': ['PRSS23'],\n",
       "  'ID2': ['ID2']}}"
      ]
     },
     "execution_count": 12,
     "metadata": {},
     "output_type": "execute_result"
    }
   ],
   "source": [
    "selected_genes"
   ]
  },
  {
   "cell_type": "code",
   "execution_count": null,
   "id": "7bad97ed",
   "metadata": {},
   "outputs": [],
   "source": []
  }
 ],
 "metadata": {
  "kernelspec": {
   "display_name": "gpu",
   "language": "python",
   "name": "gpu"
  },
  "language_info": {
   "codemirror_mode": {
    "name": "ipython",
    "version": 3
   },
   "file_extension": ".py",
   "mimetype": "text/x-python",
   "name": "python",
   "nbconvert_exporter": "python",
   "pygments_lexer": "ipython3",
   "version": "3.8.18"
  },
  "toc": {
   "base_numbering": 1,
   "nav_menu": {},
   "number_sections": true,
   "sideBar": true,
   "skip_h1_title": false,
   "title_cell": "Table of Contents",
   "title_sidebar": "Contents",
   "toc_cell": false,
   "toc_position": {
    "height": "calc(100% - 180px)",
    "left": "10px",
    "top": "150px",
    "width": "165px"
   },
   "toc_section_display": true,
   "toc_window_display": true
  }
 },
 "nbformat": 4,
 "nbformat_minor": 5
}
